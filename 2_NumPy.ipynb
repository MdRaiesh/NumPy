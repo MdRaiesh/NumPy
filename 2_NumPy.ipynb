{
 "cells": [
  {
   "cell_type": "markdown",
   "id": "0d54f2ba",
   "metadata": {},
   "source": [
    "# Libraries in python\n",
    "\n",
    "### NumPy\n",
    "### Pandas\n",
    "### Matplotlib\n",
    "\n",
    "Python libraries is a collection of functions and methods that allows you to perform many actions without writing your code\n"
   ]
  },
  {
   "cell_type": "markdown",
   "id": "c960f46b",
   "metadata": {},
   "source": [
    "## Numpy\n",
    "\n",
    "Numpy stands for Numerical Python and is the core library for numeric and scientific computing\n",
    "It consists of multidimentional array objects and a collection of routines for processing those arrays"
   ]
  },
  {
   "cell_type": "code",
   "execution_count": 3,
   "id": "430c12b0",
   "metadata": {},
   "outputs": [
    {
     "data": {
      "text/plain": [
       "array([10, 20, 40, 70, 90, 60])"
      ]
     },
     "execution_count": 3,
     "metadata": {},
     "output_type": "execute_result"
    }
   ],
   "source": [
    "# Creating NumPy array\n",
    "\n",
    "import numpy as np\n",
    "n1 = np.array([10,20,40,70,90,60])\n",
    "n1"
   ]
  },
  {
   "cell_type": "code",
   "execution_count": 4,
   "id": "28a4ab96",
   "metadata": {},
   "outputs": [
    {
     "data": {
      "text/plain": [
       "array([[10, 20, 30, 40],\n",
       "       [50, 60, 70, 80]])"
      ]
     },
     "execution_count": 4,
     "metadata": {},
     "output_type": "execute_result"
    }
   ],
   "source": [
    "import numpy as np\n",
    "n2 = np.array([[10,20,30,40],[50,60,70,80]])\n",
    "n2"
   ]
  },
  {
   "cell_type": "code",
   "execution_count": 5,
   "id": "d4d48326",
   "metadata": {},
   "outputs": [
    {
     "data": {
      "text/plain": [
       "numpy.ndarray"
      ]
     },
     "execution_count": 5,
     "metadata": {},
     "output_type": "execute_result"
    }
   ],
   "source": [
    "type(n1)"
   ]
  },
  {
   "cell_type": "code",
   "execution_count": 6,
   "id": "17771e90",
   "metadata": {},
   "outputs": [
    {
     "data": {
      "text/plain": [
       "array([[0., 0.],\n",
       "       [0., 0.]])"
      ]
     },
     "execution_count": 6,
     "metadata": {},
     "output_type": "execute_result"
    }
   ],
   "source": [
    "# Initializing numpy arrays with zeros\n",
    "\n",
    "import numpy as np\n",
    "n1 = np.zeros((2,2))\n",
    "n1"
   ]
  },
  {
   "cell_type": "code",
   "execution_count": 7,
   "id": "2be5021d",
   "metadata": {},
   "outputs": [
    {
     "data": {
      "text/plain": [
       "array([[0., 0., 0., 0., 0., 0.],\n",
       "       [0., 0., 0., 0., 0., 0.],\n",
       "       [0., 0., 0., 0., 0., 0.],\n",
       "       [0., 0., 0., 0., 0., 0.],\n",
       "       [0., 0., 0., 0., 0., 0.]])"
      ]
     },
     "execution_count": 7,
     "metadata": {},
     "output_type": "execute_result"
    }
   ],
   "source": [
    "import numpy as np\n",
    "n2 = np.zeros((5,6))\n",
    "n2"
   ]
  },
  {
   "cell_type": "code",
   "execution_count": 9,
   "id": "e290b27e",
   "metadata": {},
   "outputs": [
    {
     "data": {
      "text/plain": [
       "array([[3, 3],\n",
       "       [3, 3]])"
      ]
     },
     "execution_count": 9,
     "metadata": {},
     "output_type": "execute_result"
    }
   ],
   "source": [
    "# Initializing NumPy array with same number\n",
    "\n",
    "import numpy as np\n",
    "n1 = np.full((2,2),3)\n",
    "n1"
   ]
  },
  {
   "cell_type": "code",
   "execution_count": 11,
   "id": "d3e2862d",
   "metadata": {},
   "outputs": [
    {
     "data": {
      "text/plain": [
       "array([10, 11, 12, 13, 14, 15, 16, 17, 18, 19])"
      ]
     },
     "execution_count": 11,
     "metadata": {},
     "output_type": "execute_result"
    }
   ],
   "source": [
    "# Initializing NumPy array within a range\n",
    "\n",
    "import numpy as np\n",
    "n1 = np.arange(10,20)\n",
    "n1"
   ]
  },
  {
   "cell_type": "code",
   "execution_count": 12,
   "id": "14264e00",
   "metadata": {},
   "outputs": [
    {
     "data": {
      "text/plain": [
       "array([10, 15, 20, 25, 30, 35, 40, 45, 50, 55, 60, 65])"
      ]
     },
     "execution_count": 12,
     "metadata": {},
     "output_type": "execute_result"
    }
   ],
   "source": [
    "# Initializing NumPy array within a range\n",
    "\n",
    "import numpy as np\n",
    "n1 = np.arange(10,70,5)\n",
    "n1"
   ]
  },
  {
   "cell_type": "code",
   "execution_count": 13,
   "id": "89cb4786",
   "metadata": {},
   "outputs": [
    {
     "data": {
      "text/plain": [
       "array([32, 15, 97, 50, 54, 91])"
      ]
     },
     "execution_count": 13,
     "metadata": {},
     "output_type": "execute_result"
    }
   ],
   "source": [
    "# Initializing NumPy array with random numbers\n",
    "\n",
    "import numpy as np\n",
    "n1 = np.random.randint(1,100,6)\n",
    "n1"
   ]
  },
  {
   "cell_type": "code",
   "execution_count": 15,
   "id": "39bcd4bd",
   "metadata": {},
   "outputs": [
    {
     "data": {
      "text/plain": [
       "(2, 3)"
      ]
     },
     "execution_count": 15,
     "metadata": {},
     "output_type": "execute_result"
    }
   ],
   "source": [
    "# Checking the shape of numpy arrays\n",
    "\n",
    "import numpy as np\n",
    "n1 = np.array([[1,2,3],[4,5,6]])\n",
    "n1.shape"
   ]
  },
  {
   "cell_type": "code",
   "execution_count": 16,
   "id": "a1242cf2",
   "metadata": {},
   "outputs": [
    {
     "data": {
      "text/plain": [
       "(3, 2)"
      ]
     },
     "execution_count": 16,
     "metadata": {},
     "output_type": "execute_result"
    }
   ],
   "source": [
    "n1.shape = (3,2)\n",
    "n1.shape"
   ]
  },
  {
   "cell_type": "code",
   "execution_count": 17,
   "id": "001e0833",
   "metadata": {},
   "outputs": [
    {
     "data": {
      "text/plain": [
       "array([[1, 2],\n",
       "       [3, 4],\n",
       "       [5, 6]])"
      ]
     },
     "execution_count": 17,
     "metadata": {},
     "output_type": "execute_result"
    }
   ],
   "source": [
    "n1"
   ]
  },
  {
   "cell_type": "code",
   "execution_count": 18,
   "id": "7c538ed2",
   "metadata": {},
   "outputs": [
    {
     "data": {
      "text/plain": [
       "array([[10, 20, 30],\n",
       "       [40, 50, 60]])"
      ]
     },
     "execution_count": 18,
     "metadata": {},
     "output_type": "execute_result"
    }
   ],
   "source": [
    "# Joining Numpy Arrays\n",
    "\n",
    "# vstack()\n",
    "\n",
    "import numpy as np\n",
    "n1 = np.array([10,20,30])\n",
    "n2 = np.array([40,50,60])\n",
    "\n",
    "np.vstack((n1,n2))"
   ]
  },
  {
   "cell_type": "code",
   "execution_count": 19,
   "id": "4bcbc876",
   "metadata": {},
   "outputs": [
    {
     "data": {
      "text/plain": [
       "array([10, 20, 30, 40, 50, 60])"
      ]
     },
     "execution_count": 19,
     "metadata": {},
     "output_type": "execute_result"
    }
   ],
   "source": [
    "# hstack()\n",
    "\n",
    "import numpy as np\n",
    "n1 = np.array([10,20,30])\n",
    "n2 = np.array([40,50,60])\n",
    "\n",
    "np.hstack((n1,n2))"
   ]
  },
  {
   "cell_type": "code",
   "execution_count": 20,
   "id": "10d19763",
   "metadata": {},
   "outputs": [
    {
     "data": {
      "text/plain": [
       "array([[10, 40],\n",
       "       [20, 50],\n",
       "       [30, 60]])"
      ]
     },
     "execution_count": 20,
     "metadata": {},
     "output_type": "execute_result"
    }
   ],
   "source": [
    "# column_stack()\n",
    "\n",
    "import numpy as np\n",
    "n1 = np.array([10,20,30])\n",
    "n2 = np.array([40,50,60])\n",
    "\n",
    "np.column_stack((n1,n2))"
   ]
  },
  {
   "cell_type": "code",
   "execution_count": 21,
   "id": "8ec6ff37",
   "metadata": {},
   "outputs": [],
   "source": [
    "# NumPy Intersection and difference"
   ]
  },
  {
   "cell_type": "code",
   "execution_count": 25,
   "id": "86d36658",
   "metadata": {},
   "outputs": [
    {
     "data": {
      "text/plain": [
       "array([40, 50])"
      ]
     },
     "execution_count": 25,
     "metadata": {},
     "output_type": "execute_result"
    }
   ],
   "source": [
    "import numpy as np\n",
    "n1 = np.array([10,20,30,40,50])\n",
    "n2 = np.array([40,50,60,70,80])\n",
    "np.intersect1d(n1,n2)"
   ]
  },
  {
   "cell_type": "code",
   "execution_count": 29,
   "id": "4b488ae6",
   "metadata": {},
   "outputs": [
    {
     "data": {
      "text/plain": [
       "array([10, 20, 30])"
      ]
     },
     "execution_count": 29,
     "metadata": {},
     "output_type": "execute_result"
    }
   ],
   "source": [
    "import numpy as np\n",
    "n1 = np.array([10,20,30,40,50])\n",
    "n2 = np.array([40,50,60,70,80])\n",
    "np.setdiff1d(n1,n2)"
   ]
  },
  {
   "cell_type": "code",
   "execution_count": 30,
   "id": "ac3eff37",
   "metadata": {},
   "outputs": [
    {
     "data": {
      "text/plain": [
       "array([60, 70, 80])"
      ]
     },
     "execution_count": 30,
     "metadata": {},
     "output_type": "execute_result"
    }
   ],
   "source": [
    "import numpy as np\n",
    "n1 = np.array([10,20,30,40,50])\n",
    "n2 = np.array([40,50,60,70,80])\n",
    "np.setdiff1d(n2,n1)"
   ]
  },
  {
   "cell_type": "markdown",
   "id": "5bc89a07",
   "metadata": {},
   "source": [
    "## NumPy Array Mathematics"
   ]
  },
  {
   "cell_type": "code",
   "execution_count": 31,
   "id": "40a5813b",
   "metadata": {},
   "outputs": [
    {
     "data": {
      "text/plain": [
       "450"
      ]
     },
     "execution_count": 31,
     "metadata": {},
     "output_type": "execute_result"
    }
   ],
   "source": [
    "# Addition of NumPy arraays\n",
    "\n",
    "import numpy as np\n",
    "n1 = np.array([10,20,30,40,50])\n",
    "n2 = np.array([40,50,60,70,80])\n",
    "np.sum([n1,n2])"
   ]
  },
  {
   "cell_type": "code",
   "execution_count": 32,
   "id": "8cb6831c",
   "metadata": {},
   "outputs": [
    {
     "data": {
      "text/plain": [
       "array([ 50,  70,  90, 110, 130])"
      ]
     },
     "execution_count": 32,
     "metadata": {},
     "output_type": "execute_result"
    }
   ],
   "source": [
    "np.sum([n1,n2],axis=0)"
   ]
  },
  {
   "cell_type": "code",
   "execution_count": 33,
   "id": "875aebb4",
   "metadata": {},
   "outputs": [
    {
     "data": {
      "text/plain": [
       "array([150, 300])"
      ]
     },
     "execution_count": 33,
     "metadata": {},
     "output_type": "execute_result"
    }
   ],
   "source": [
    "np.sum([n1,n2],axis=1)"
   ]
  },
  {
   "cell_type": "code",
   "execution_count": 34,
   "id": "1f4e635f",
   "metadata": {},
   "outputs": [
    {
     "data": {
      "text/plain": [
       "array([14, 24, 34, 44, 54])"
      ]
     },
     "execution_count": 34,
     "metadata": {},
     "output_type": "execute_result"
    }
   ],
   "source": [
    "# Basic addition\n",
    "\n",
    "import numpy as np\n",
    "n1 = np.array([10,20,30,40,50])\n",
    "n1 = n1+4\n",
    "n1"
   ]
  },
  {
   "cell_type": "code",
   "execution_count": 35,
   "id": "ed9e170a",
   "metadata": {},
   "outputs": [
    {
     "data": {
      "text/plain": [
       "array([ 6, 16, 26, 36, 46])"
      ]
     },
     "execution_count": 35,
     "metadata": {},
     "output_type": "execute_result"
    }
   ],
   "source": [
    "# Basic Substraction\n",
    "\n",
    "import numpy as np\n",
    "n1 = np.array([10,20,30,40,50])\n",
    "n1 = n1-4\n",
    "n1"
   ]
  },
  {
   "cell_type": "code",
   "execution_count": 36,
   "id": "85676736",
   "metadata": {},
   "outputs": [
    {
     "data": {
      "text/plain": [
       "array([ 40,  80, 120, 160, 200])"
      ]
     },
     "execution_count": 36,
     "metadata": {},
     "output_type": "execute_result"
    }
   ],
   "source": [
    "# Basic Multiplication\n",
    "\n",
    "import numpy as np\n",
    "n1 = np.array([10,20,30,40,50])\n",
    "n1 = n1*4\n",
    "n1"
   ]
  },
  {
   "cell_type": "code",
   "execution_count": 37,
   "id": "ab5235dc",
   "metadata": {},
   "outputs": [
    {
     "data": {
      "text/plain": [
       "array([ 2.5,  5. ,  7.5, 10. , 12.5])"
      ]
     },
     "execution_count": 37,
     "metadata": {},
     "output_type": "execute_result"
    }
   ],
   "source": [
    "# Basic Division\n",
    "\n",
    "import numpy as np\n",
    "n1 = np.array([10,20,30,40,50])\n",
    "n1 = n1/4\n",
    "n1"
   ]
  },
  {
   "cell_type": "code",
   "execution_count": 38,
   "id": "138bab42",
   "metadata": {},
   "outputs": [
    {
     "data": {
      "text/plain": [
       "30.0"
      ]
     },
     "execution_count": 38,
     "metadata": {},
     "output_type": "execute_result"
    }
   ],
   "source": [
    "# NumPy Math Functions\n",
    "\n",
    "import numpy as np\n",
    "n1 = np.array([10,20,30,40,50])\n",
    "np.mean(n1)"
   ]
  },
  {
   "cell_type": "code",
   "execution_count": 39,
   "id": "926748d2",
   "metadata": {},
   "outputs": [
    {
     "data": {
      "text/plain": [
       "14.142135623730951"
      ]
     },
     "execution_count": 39,
     "metadata": {},
     "output_type": "execute_result"
    }
   ],
   "source": [
    "np.std(n1)"
   ]
  },
  {
   "cell_type": "code",
   "execution_count": 40,
   "id": "77a34b9a",
   "metadata": {},
   "outputs": [
    {
     "data": {
      "text/plain": [
       "30.0"
      ]
     },
     "execution_count": 40,
     "metadata": {},
     "output_type": "execute_result"
    }
   ],
   "source": [
    "np.median(n1)"
   ]
  },
  {
   "cell_type": "code",
   "execution_count": 41,
   "id": "b9b0c6bf",
   "metadata": {},
   "outputs": [],
   "source": [
    "# NumPy Array Save and Load\n",
    "\n",
    "import numpy as np\n",
    "n1 = np.array([10,20,30,40,50,60,70,80])\n",
    "np.save('my_numpy',n1)"
   ]
  },
  {
   "cell_type": "code",
   "execution_count": 42,
   "id": "4cb62a97",
   "metadata": {},
   "outputs": [
    {
     "data": {
      "text/plain": [
       "array([10, 20, 30, 40, 50, 60, 70, 80])"
      ]
     },
     "execution_count": 42,
     "metadata": {},
     "output_type": "execute_result"
    }
   ],
   "source": [
    "n2 = np.load('my_numpy.npy')\n",
    "n2"
   ]
  },
  {
   "cell_type": "code",
   "execution_count": null,
   "id": "219527ed",
   "metadata": {},
   "outputs": [],
   "source": []
  },
  {
   "cell_type": "markdown",
   "id": "2595fcaf",
   "metadata": {},
   "source": [
    "# Analyzed by\n",
    "\n",
    "\n",
    "𝐌𝐝 𝐑𝐚𝐢𝐞𝐬𝐡,\n",
    "Enrollment number : 𝟏𝟗𝐔𝐌𝐄𝟏𝟏𝟔,\n",
    "Registration number : 𝟏𝟗𝟏𝟏𝟑𝟒𝟓,\n",
    "B Tech,7𝐭𝐡 semester,Section : 𝐀,\n",
    "Mechanical Engineering Department,\n",
    "National Institute of Technology Agartala, Tripura 799046\n"
   ]
  }
 ],
 "metadata": {
  "kernelspec": {
   "display_name": "Python 3 (ipykernel)",
   "language": "python",
   "name": "python3"
  },
  "language_info": {
   "codemirror_mode": {
    "name": "ipython",
    "version": 3
   },
   "file_extension": ".py",
   "mimetype": "text/x-python",
   "name": "python",
   "nbconvert_exporter": "python",
   "pygments_lexer": "ipython3",
   "version": "3.9.12"
  }
 },
 "nbformat": 4,
 "nbformat_minor": 5
}
